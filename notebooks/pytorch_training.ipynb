{
 "cells": [
  {
   "cell_type": "code",
<<<<<<< HEAD
   "execution_count": 1,
=======
   "execution_count": 9,
>>>>>>> f8458534 (Initial commit: Add cats_vs_dogs project files)
   "id": "f20a204b",
   "metadata": {},
   "outputs": [
    {
<<<<<<< HEAD
     "ename": "ModuleNotFoundError",
     "evalue": "No module named 'models'",
     "output_type": "error",
     "traceback": [
      "\u001b[31m---------------------------------------------------------------------------\u001b[39m",
      "\u001b[31mModuleNotFoundError\u001b[39m                       Traceback (most recent call last)",
      "\u001b[36mCell\u001b[39m\u001b[36m \u001b[39m\u001b[32mIn[1]\u001b[39m\u001b[32m, line 2\u001b[39m\n\u001b[32m      1\u001b[39m \u001b[38;5;28;01mimport\u001b[39;00m\u001b[38;5;250m \u001b[39m\u001b[34;01mtorch\u001b[39;00m\n\u001b[32m----> \u001b[39m\u001b[32m2\u001b[39m \u001b[38;5;28;01mfrom\u001b[39;00m\u001b[38;5;250m \u001b[39m\u001b[34;01mmodels\u001b[39;00m\u001b[34;01m.\u001b[39;00m\u001b[34;01mpytorch_model\u001b[39;00m\u001b[38;5;250m \u001b[39m\u001b[38;5;28;01mimport\u001b[39;00m PyTorchCNN, train_model\n\u001b[32m      3\u001b[39m \u001b[38;5;28;01mfrom\u001b[39;00m\u001b[38;5;250m \u001b[39m\u001b[34;01mutils\u001b[39;00m\u001b[34;01m.\u001b[39;00m\u001b[34;01mdata_preprocessing\u001b[39;00m\u001b[38;5;250m \u001b[39m\u001b[38;5;28;01mimport\u001b[39;00m get_pytorch_dataloaders\n\u001b[32m      5\u001b[39m device = torch.device(\u001b[33m\"\u001b[39m\u001b[33mcuda\u001b[39m\u001b[33m\"\u001b[39m \u001b[38;5;28;01mif\u001b[39;00m torch.cuda.is_available() \u001b[38;5;28;01melse\u001b[39;00m \u001b[33m\"\u001b[39m\u001b[33mcpu\u001b[39m\u001b[33m\"\u001b[39m)\n",
      "\u001b[31mModuleNotFoundError\u001b[39m: No module named 'models'"
=======
     "name": "stdout",
     "output_type": "stream",
     "text": [
      "Epoch 1/5\n",
      "Train Loss: 0.2413, Accuracy: 0.8981\n",
      "Epoch 2/5\n",
      "Train Loss: 0.1389, Accuracy: 0.9459\n",
      "Epoch 3/5\n",
      "Train Loss: 0.1079, Accuracy: 0.9561\n",
      "Epoch 4/5\n",
      "Train Loss: 0.0864, Accuracy: 0.9651\n",
      "Epoch 5/5\n",
      "Train Loss: 0.0682, Accuracy: 0.9722\n"
>>>>>>> f8458534 (Initial commit: Add cats_vs_dogs project files)
     ]
    }
   ],
   "source": [
<<<<<<< HEAD
    "import torch\n",
    "from models.pytorch_model import PyTorchCNN, train_model\n",
    "from utils.data_preprocessing import get_pytorch_dataloaders\n",
    "\n",
    "device = torch.device(\"cuda\" if torch.cuda.is_available() else \"cpu\")\n",
    "dataloaders = get_pytorch_dataloaders(\"data\")\n",
    "\n",
    "model = PyTorchCNN()\n",
    "train_model(model, dataloaders, device)\n"
   ]
=======
    "# Cell 1\n",
    "\n",
    "# Import the sys module to modify the Python path (where modules are searched for)\n",
    "import sys\n",
    "\n",
    "# Import the os module to work with file and directory paths\n",
    "import os\n",
    "\n",
    "# Add the parent directory (one level up) to the Python path so that models/ and utils/ can be imported\n",
    "sys.path.append(os.path.abspath(\"..\"))\n",
    "\n",
    "# Import PyTorch library\n",
    "import torch\n",
    "\n",
    "# Import the custom PyTorch CNN model class and training function from the models directory\n",
    "from models.pytorch_model import PyTorchCNN, train_model\n",
    "\n",
    "# Import the data preprocessing function that returns PyTorch dataloaders\n",
    "from utils.data_preprocessing import get_pytorch_dataloaders\n",
    "\n",
    "# Set the device to GPU if available, otherwise fallback to CPU\n",
    "device = torch.device(\"cuda\" if torch.cuda.is_available() else \"cpu\")\n",
    "\n",
    "# Load the training and validation dataloaders from the dataset path\n",
    "dataloaders = get_pytorch_dataloaders(r\"C:\\\\Multi-Framework Image Classification\\\\data\")\n",
    "\n",
    "# Create an instance of the PyTorch CNN model\n",
    "model = PyTorchCNN()\n",
    "\n",
    "# Train the model using the loaded dataloaders and the specified device (GPU or CPU)\n",
    "train_model(model, dataloaders, device)\n",
    "\n"
   ]
  },
  {
   "cell_type": "code",
   "execution_count": null,
   "id": "e1864349",
   "metadata": {},
   "outputs": [],
   "source": []
>>>>>>> f8458534 (Initial commit: Add cats_vs_dogs project files)
  }
 ],
 "metadata": {
  "kernelspec": {
<<<<<<< HEAD
   "display_name": "Python 3 (ipykernel)",
=======
   "display_name": "venv",
>>>>>>> f8458534 (Initial commit: Add cats_vs_dogs project files)
   "language": "python",
   "name": "python3"
  },
  "language_info": {
   "codemirror_mode": {
    "name": "ipython",
    "version": 3
   },
   "file_extension": ".py",
   "mimetype": "text/x-python",
   "name": "python",
   "nbconvert_exporter": "python",
   "pygments_lexer": "ipython3",
   "version": "3.12.7"
  }
 },
 "nbformat": 4,
 "nbformat_minor": 5
}
